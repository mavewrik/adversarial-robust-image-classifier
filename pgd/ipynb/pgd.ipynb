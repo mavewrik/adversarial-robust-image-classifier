{
 "cells": [
  {
   "cell_type": "code",
   "execution_count": 1,
   "id": "56273cd3-2aea-478b-a0c2-ba95323ebd82",
   "metadata": {},
   "outputs": [],
   "source": [
    "# import necessary dependencies\n",
    "import torch\n",
    "import torch.nn as nn\n",
    "import torch.optim as optim\n",
    "import torch.nn.functional as F\n",
    "import torch.backends.cudnn as cudnn\n",
    "from torch.autograd import *\n",
    "import torchvision\n",
    "import torchvision.transforms as transforms\n",
    "import matplotlib.pyplot as plt\n",
    "import numpy as np\n",
    "from resnet import *\n",
    "import pickle\n",
    "import datetime"
   ]
  },
  {
   "cell_type": "code",
   "execution_count": 2,
   "id": "db2a218e-ca07-4946-b32e-8f847103b9ff",
   "metadata": {},
   "outputs": [],
   "source": [
    "# select GPU if available, else CPU\n",
    "device = 'cuda' if torch.cuda.is_available() else 'cpu'"
   ]
  },
  {
   "cell_type": "code",
   "execution_count": 3,
   "id": "c99355a5-1ec0-472b-9c80-38203de3f9ef",
   "metadata": {},
   "outputs": [],
   "source": [
    "# define transformations on training set and testing set\n",
    "transform_train = transforms.Compose([\n",
    "    transforms.RandomCrop(32, padding=4),\n",
    "    transforms.RandomHorizontalFlip(),\n",
    "    transforms.ToTensor(),\n",
    "    # CIFAR-10 normalization, check: https://stackoverflow.com/questions/50710493/cifar-10-meaningless-normalization-values\n",
    "    transforms.Normalize((0.4914, 0.4822, 0.4465), (0.2023, 0.1994, 0.2010)),\n",
    "])\n",
    "\n",
    "transform_test = transforms.Compose([\n",
    "    transforms.ToTensor(),\n",
    "    transforms.Normalize((0.4914, 0.4822, 0.4465), (0.2023, 0.1994, 0.2010)),\n",
    "])"
   ]
  },
  {
   "cell_type": "code",
   "execution_count": 4,
   "id": "c82638f9-197c-4761-8f3a-827703c8c6d9",
   "metadata": {},
   "outputs": [
    {
     "name": "stdout",
     "output_type": "stream",
     "text": [
      "Files already downloaded and verified\n",
      "Files already downloaded and verified\n"
     ]
    }
   ],
   "source": [
    "# get CIFAR-10 dataset and prepare train and test loaders\n",
    "trainset = torchvision.datasets.CIFAR10(root='./data', train=True, download=True, transform=transform_train)\n",
    "trainloader = torch.utils.data.DataLoader(trainset, batch_size=128, shuffle=True, num_workers=2)\n",
    "\n",
    "testset = torchvision.datasets.CIFAR10(root='./data', train=False, download=True, transform=transform_test)\n",
    "testloader = torch.utils.data.DataLoader(testset, batch_size=100, shuffle=False, num_workers=2)"
   ]
  },
  {
   "cell_type": "code",
   "execution_count": 5,
   "id": "6b0d5f7d-3e9b-4771-b377-bc1af41af8df",
   "metadata": {},
   "outputs": [],
   "source": [
    "# classes of CIFAR-10, in order\n",
    "classes = ('airplane', 'automobile', 'bird', 'cat', 'deer', 'dog', 'frog', 'horse', 'ship', 'truck')"
   ]
  },
  {
   "cell_type": "code",
   "execution_count": 7,
   "id": "43f6e6be-9a55-4158-979a-ab3efc8c8381",
   "metadata": {},
   "outputs": [],
   "source": [
    "# training function\n",
    "def train(epoch, net):\n",
    "    '''\n",
    "    this function trains network on training dataset\n",
    "    '''\n",
    "    # set network to training mode\n",
    "    net.train()\n",
    "    \n",
    "    train_loss = 0\n",
    "    correct = 0\n",
    "    total = 0\n",
    "    \n",
    "    for batch_idx, (inputs, targets) in enumerate(trainloader):\n",
    "        # move data to device - GPU or CPU, as available\n",
    "        inputs, targets = inputs.to(device), targets.to(device)\n",
    "        \n",
    "        # zero the parameter gradients\n",
    "        optimizer.zero_grad()\n",
    "        \n",
    "        # forward + backward + optimize\n",
    "        outputs = net(inputs)\n",
    "        loss = criterion(outputs, targets)\n",
    "        loss.backward()\n",
    "        optimizer.step()\n",
    "        \n",
    "        # calculate training loss\n",
    "        train_loss += loss.item()\n",
    "        \n",
    "        # the class with the highest energy is what we choose as prediction\n",
    "        _, predicted = outputs.max(1)\n",
    "        total += targets.size(0)\n",
    "        correct += predicted.eq(targets).sum().item()\n",
    "    \n",
    "    return train_loss/len(trainloader)"
   ]
  },
  {
   "cell_type": "code",
   "execution_count": 6,
   "id": "89b19257-9337-486f-800a-1e2f77eb3773",
   "metadata": {},
   "outputs": [],
   "source": [
    "# testing function\n",
    "# reference: https://pytorch.org/tutorials/beginner/blitz/cifar10_tutorial.html?highlight=cifar\n",
    "def test(epoch, net):\n",
    "    '''\n",
    "    this function evaluates network on testing dataset\n",
    "    '''\n",
    "    # set variable for global access\n",
    "    global acc\n",
    "    \n",
    "    # set network to testing mode\n",
    "    net.eval()\n",
    "    \n",
    "    test_loss = 0\n",
    "    correct = 0\n",
    "    total = 0\n",
    "    \n",
    "    with torch.no_grad():\n",
    "        for batch_idx, (inputs, targets) in enumerate(testloader):\n",
    "            inputs, targets = inputs.to(device), targets.to(device)\n",
    "            outputs = net(inputs)\n",
    "            loss = criterion(outputs, targets)\n",
    "\n",
    "            test_loss += loss.item()\n",
    "            _, predicted = outputs.max(1)\n",
    "            total += targets.size(0)\n",
    "            correct += predicted.eq(targets).sum().item()\n",
    "    \n",
    "    acc = 100 * correct / total\n",
    "    \n",
    "    return test_loss/len(testloader)"
   ]
  },
  {
   "cell_type": "code",
   "execution_count": 8,
   "id": "6f452afc-890b-4e45-8183-ddbbc56b1e51",
   "metadata": {},
   "outputs": [],
   "source": [
    "# build ResNet-18 model\n",
    "net = ResNet18()\n",
    "net = net.to(device)\n",
    "# setup for data parallel operations\n",
    "if device == 'cuda':\n",
    "    net = torch.nn.DataParallel(net)\n",
    "    cudnn.benchmark = True\n",
    "\n",
    "# initialize loss function, optimizer and LR scheduler\n",
    "lr = 0.01\n",
    "criterion = nn.CrossEntropyLoss()\n",
    "optimizer = optim.SGD(net.parameters(), lr=lr, momentum=0.9, weight_decay=5e-4)\n",
    "scheduler = torch.optim.lr_scheduler.CosineAnnealingLR(optimizer, T_max=200)"
   ]
  },
  {
   "cell_type": "code",
   "execution_count": 9,
   "id": "c2dc9a21-3327-4171-ab54-0f1be862695e",
   "metadata": {},
   "outputs": [
    {
     "name": "stdout",
     "output_type": "stream",
     "text": [
      "2022-05-16 14:35:49.423222\n",
      "2022-05-16 14:45:09.193354\n"
     ]
    }
   ],
   "source": [
    "# train and evaluate naive network\n",
    "train_losses=[]\n",
    "test_losses=[]\n",
    "epochs=20\n",
    "\n",
    "# get a sense of execution time\n",
    "print(datetime.datetime.now())\n",
    "\n",
    "# run through number of epochs\n",
    "for epoch in range(0, epochs):\n",
    "    train_losses.append(train(epoch, net))\n",
    "    test_losses.append(test(epoch, net))\n",
    "    scheduler.step()\n",
    "\n",
    "print(datetime.datetime.now())"
   ]
  },
  {
   "cell_type": "code",
   "execution_count": 10,
   "id": "9d085155-39c4-4553-9b34-37f2a3191cc9",
   "metadata": {},
   "outputs": [
    {
     "name": "stdout",
     "output_type": "stream",
     "text": [
      "Accuracy of the naive network on test images: 90.01 %\n"
     ]
    }
   ],
   "source": [
    "print(f\"Accuracy of the naive network on test images: {acc} %\")"
   ]
  },
  {
   "cell_type": "code",
   "execution_count": 11,
   "id": "36f16bb3-4f4d-4527-ad9e-f13fd955c62d",
   "metadata": {},
   "outputs": [
    {
     "data": {
      "image/png": "[encoded data removed]",
      "text/plain": [
       "<Figure size 432x288 with 1 Axes>"
      ]
     },
     "metadata": {
      "needs_background": "light"
     },
     "output_type": "display_data"
    }
   ],
   "source": [
    "# plot train and test loss of naive network on CIFAR-10 images\n",
    "epochs = 20\n",
    "plt.plot(np.arange(1,epochs+1), train_losses, label='train losses')\n",
    "plt.plot(np.arange(1,epochs+1), test_losses, label='test losses')\n",
    "plt.xlabel('epochs')\n",
    "plt.ylabel('losses')\n",
    "plt.legend()\n",
    "plt.show()"
   ]
  },
  {
   "cell_type": "markdown",
   "id": "636bf690-f7f6-407d-b69f-7aa090a5bf87",
   "metadata": {},
   "source": [
    "### PGD attack function\n",
    "In the PGD attack, we repeat $\\delta:=\\mathcal{P}(\\delta+\\alpha \\nabla_{\\delta} L(\\theta, x, y))$ for $t$ iterations."
   ]
  },
  {
   "cell_type": "code",
   "execution_count": 12,
   "id": "2698246e-6b14-46d3-88bf-35ff08e3cf92",
   "metadata": {},
   "outputs": [],
   "source": [
    "def PGD(net,x,y,alpha,epsilon,iter):\n",
    "    '''\n",
    "    inputs:\n",
    "        net: the network through which we pass the inputs\n",
    "        x: the original example which we aim to perturb to make an adversarial example\n",
    "        y: the true label of x\n",
    "        alpha: step size\n",
    "        epsilon: perturbation limit\n",
    "        iter: number of iterations in the PGD algorithm\n",
    "\n",
    "    outputs:\n",
    "        x_adv : the adversarial example constructed from x\n",
    "        h_adv: output of softmax when applying net on x_adv \n",
    "        y_adv: predicted label for x_adv\n",
    "        pert: perturbation applied to x (x_adv - x)\n",
    "    '''\n",
    "\n",
    "    delta = torch.zeros_like(x, requires_grad=True)\n",
    "    \n",
    "    for i in range(iter):\n",
    "        criterion = nn.CrossEntropyLoss()\n",
    "        loss = criterion(net(x + delta), y)\n",
    "        loss.backward()\n",
    "        delta.data = (delta + x.shape[0]*alpha*delta.grad.data).clamp(-epsilon, epsilon)\n",
    "        delta.grad.zero_()\n",
    "    \n",
    "    pert = delta.detach()\n",
    "    x_adv = x + pert\n",
    "    h_adv = net(x_adv)\n",
    "    _, y_adv = torch.max(h_adv.data, 1)\n",
    "    \n",
    "    return x_adv, h_adv, y_adv, pert"
   ]
  },
  {
   "cell_type": "markdown",
   "id": "684891ba-3286-4eae-b835-55639e9e015b",
   "metadata": {},
   "source": [
    "#### Adversarial training with PGD"
   ]
  },
  {
   "cell_type": "code",
   "execution_count": 13,
   "id": "baa3a06f-ead4-497c-ae74-8943aa6cc989",
   "metadata": {},
   "outputs": [],
   "source": [
    "net_pgd = ResNet18()\n",
    "net_pgd = net_pgd.to(device)\n",
    "if device == 'cuda':\n",
    "    net_pgd = torch.nn.DataParallel(net_pgd)\n",
    "    cudnn.benchmark = True\n",
    "\n",
    "criterion = nn.CrossEntropyLoss()\n",
    "optimizer_pgd = optim.SGD(net_pgd.parameters(), lr=lr, momentum=0.9, weight_decay=5e-4)\n",
    "scheduler_pgd = torch.optim.lr_scheduler.CosineAnnealingLR(optimizer_pgd, T_max=200)"
   ]
  },
  {
   "cell_type": "code",
   "execution_count": 14,
   "id": "daba6683-0241-47a9-8b74-ff4707f3093c",
   "metadata": {},
   "outputs": [],
   "source": [
    "# train_pgd() trains a given neural network on adversarial examples generated from training data using the\n",
    "# PGD attack\n",
    "def train_pgd(epoch, net, alpha, epsilon, iter):\n",
    "    net.train()\n",
    "    \n",
    "    train_loss = 0\n",
    "    correct = 0\n",
    "    total = 0\n",
    "    eps = 8.0/255\n",
    "    \n",
    "    for batch_idx, (inputs, targets) in enumerate(trainloader):\n",
    "        inputs, targets = inputs.to(device), targets.to(device)\n",
    "\n",
    "        x_adv, _, _, _ = PGD(net, inputs, targets, alpha, epsilon, iter)\n",
    "\n",
    "        optimizer_pgd.zero_grad()\n",
    "        outputs = net(x_adv)\n",
    "        loss = criterion(outputs, targets)\n",
    "        loss.backward()\n",
    "        optimizer_pgd.step()\n",
    "\n",
    "        train_loss += loss.item()\n",
    "        _, predicted = outputs.max(1)\n",
    "        total += targets.size(0)\n",
    "        correct += predicted.eq(targets).sum().item()\n",
    "    \n",
    "    return train_loss/len(trainloader)"
   ]
  },
  {
   "cell_type": "code",
   "execution_count": 15,
   "id": "a83102e1-1b05-430c-b9be-74c9bc518f5a",
   "metadata": {},
   "outputs": [
    {
     "name": "stdout",
     "output_type": "stream",
     "text": [
      "2022-05-16 14:48:42.830294\n",
      "2022-05-16 15:23:55.786987\n"
     ]
    }
   ],
   "source": [
    "# train and evaluate adversarially-trained network on unperturbed images\n",
    "\n",
    "train_losses_pgd = []\n",
    "test_losses_pgd = []\n",
    "epochs = 20\n",
    "alpha = 3.0/255\n",
    "epsilon = 8.0/255\n",
    "iter = 3\n",
    "\n",
    "print(datetime.datetime.now())\n",
    "\n",
    "for epoch in range(0, epochs):\n",
    "    train_losses_pgd.append(train_pgd(epoch, net_pgd, alpha, epsilon, iter))\n",
    "    test_losses_pgd.append(test(epoch, net_pgd))\n",
    "    scheduler_pgd.step()\n",
    "\n",
    "print(datetime.datetime.now())"
   ]
  },
  {
   "cell_type": "code",
   "execution_count": 16,
   "id": "d23f1dcd-e446-4c12-b2c4-de41a5e6874e",
   "metadata": {},
   "outputs": [
    {
     "name": "stdout",
     "output_type": "stream",
     "text": [
      "Accuracy of the adversarially-trained network on unperturbed test images: 89.07 %\n"
     ]
    }
   ],
   "source": [
    "print(f\"Accuracy of the adversarially-trained network on unperturbed test images: {acc} %\")"
   ]
  },
  {
   "cell_type": "code",
   "execution_count": null,
   "id": "38707697-f843-4487-8256-8ec11e5adb19",
   "metadata": {},
   "outputs": [],
   "source": [
    "torch.save(net_pgd, \"pgd.pth\")"
   ]
  },
  {
   "cell_type": "code",
   "execution_count": 17,
   "id": "c70adc4a-3b55-42d0-ac17-cfe4cf9b1f5b",
   "metadata": {},
   "outputs": [
    {
     "data": {
      "image/png": "[encoded data removed]",
      "text/plain": [
       "<Figure size 432x288 with 1 Axes>"
      ]
     },
     "metadata": {
      "needs_background": "light"
     },
     "output_type": "display_data"
    }
   ],
   "source": [
    "# plot losses\n",
    "epochs = 20\n",
    "plt.plot(np.arange(1,epochs+1), train_losses_pgd, label='train losses')\n",
    "plt.plot(np.arange(1,epochs+1), test_losses_pgd, label='test losses')\n",
    "plt.xlabel('epochs')\n",
    "plt.ylabel('losses')\n",
    "plt.title('adversarially-trained model with PGD attack')\n",
    "plt.legend()\n",
    "plt.show()"
   ]
  },
  {
   "cell_type": "code",
   "execution_count": 18,
   "id": "1410faa5-d32c-4839-a823-335bcfabf829",
   "metadata": {},
   "outputs": [
    {
     "data": {
      "image/png": "[encoded data removed]",
      "text/plain": [
       "<Figure size 432x288 with 1 Axes>"
      ]
     },
     "metadata": {
      "needs_background": "light"
     },
     "output_type": "display_data"
    }
   ],
   "source": [
    "# comparing plots\n",
    "# train - natural: training loss of the naturally-trained model\n",
    "# test - natural: loss of the naturally-trained model on original (unperturbed) test images\n",
    "# train - adversary - PGD: training loss of the adversarially-trained model (on examples generated with PGD)\n",
    "# test - adversary - PGD: loss of the adversarially-trained model on original (unperturbed) test images\n",
    "epochs = 20\n",
    "plt.plot(np.arange(1,epochs+1), train_losses, label='train - natural')\n",
    "plt.plot(np.arange(1,epochs+1), test_losses, label='test - natural')\n",
    "plt.plot(np.arange(1,epochs+1), train_losses_pgd, label='train - adversary - PGD')\n",
    "plt.plot(np.arange(1,epochs+1), test_losses_pgd, label='test - adversary - PGD')\n",
    "plt.xlabel('epochs')\n",
    "plt.ylabel('losses')\n",
    "plt.legend()\n",
    "plt.show()"
   ]
  },
  {
   "cell_type": "code",
   "execution_count": 19,
   "id": "fdee5a15-ba30-4da0-a897-fe154e3550b1",
   "metadata": {},
   "outputs": [],
   "source": [
    "# Evaluating the PGD adversarially-trained model against PGD attack on test data\n",
    "# test_PGD() constructs adversarial examples from test data (with PGD using net) and evaluates net_pgd on them.\n",
    "def test_PGD(net, net_pgd, alpha, eps, iter):\n",
    "    acc = 0\n",
    "    \n",
    "    net.train()\n",
    "    net_pgd.eval()\n",
    "    \n",
    "    test_loss = 0\n",
    "    correct = 0\n",
    "    total = 0\n",
    "    \n",
    "    for batch_idx, (inputs, targets) in enumerate(testloader):\n",
    "        inputs, targets = inputs.to(device), targets.to(device)\n",
    "        x_adv, _, _, _ = PGD(net, inputs, targets, alpha, eps, iter)\n",
    "\n",
    "        with torch.no_grad():\n",
    "            outputs = net_pgd(x_adv)\n",
    "            loss = criterion(outputs, targets)\n",
    "\n",
    "            test_loss += loss.item()\n",
    "            _, predicted = outputs.max(1)\n",
    "            total += targets.size(0)\n",
    "            correct += predicted.eq(targets).sum().item()\n",
    "    \n",
    "    acc = 100 * correct / total\n",
    "    \n",
    "    return acc"
   ]
  },
  {
   "cell_type": "code",
   "execution_count": 20,
   "id": "158f89bd-a25c-4991-99af-148b52f6edcb",
   "metadata": {},
   "outputs": [
    {
     "name": "stdout",
     "output_type": "stream",
     "text": [
      "Accuracy of net_pgd against PGD attack with iters = 3 : 87.92 %\n",
      "Accuracy of net_pgd against PGD attack with iters = 7 : 86.41 %\n",
      "Accuracy of net_pgd against PGD attack with iters = 12 : 84.94 %\n"
     ]
    }
   ],
   "source": [
    "# study of accuracy on varying iterations\n",
    "alpha = 3.0/255\n",
    "eps = 8.0/255\n",
    "\n",
    "for iter in [3, 7, 12]:\n",
    "    acc = test_PGD(net, net_pgd, alpha, eps, iter)\n",
    "    print(f\"Accuracy of net_pgd against PGD attack with iters = {iter} : {acc} %\")"
   ]
  },
  {
   "cell_type": "code",
   "execution_count": 10,
   "id": "05b53eb1-5811-4a73-8e8e-b83fb7b32a1a",
   "metadata": {},
   "outputs": [],
   "source": [
    "# export ipynb as pdf\n",
    "# !apt-get -y install pandoc\n",
    "# !apt-get -y update && DEBIAN_FRONTEND=noninteractive apt-get install -y texlive-xetex texlive-fonts-recommended texlive-plain-generic"
   ]
  }
 ],
 "metadata": {
  "kernelspec": {
   "display_name": "Python 3 (ipykernel)",
   "language": "python",
   "name": "python3"
  },
  "language_info": {
   "codemirror_mode": {
    "name": "ipython",
    "version": 3
   },
   "file_extension": ".py",
   "mimetype": "text/x-python",
   "name": "python",
   "nbconvert_exporter": "python",
   "pygments_lexer": "ipython3",
   "version": "3.8.12"
  }
 },
 "nbformat": 4,
 "nbformat_minor": 5
}
