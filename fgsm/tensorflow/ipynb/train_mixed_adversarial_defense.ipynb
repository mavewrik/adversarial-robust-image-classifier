{
 "cells": [
  {
   "cell_type": "code",
   "execution_count": 1,
   "id": "19f2f03c-4375-4be8-ab26-4f967b752d4e",
   "metadata": {},
   "outputs": [],
   "source": [
    "# Import the necessary packages\n",
    "from utils.simplecnn import SimpleCNN\n",
    "from utils.datagen import generate_mixed_adversarial_batch\n",
    "from utils.datagen import generate_adversarial_batch\n",
    "from tensorflow.keras.optimizers import Adam\n",
    "from tensorflow.keras.utils import to_categorical\n",
    "from tensorflow.keras.datasets import cifar10\n",
    "from utils.cifar_10 import load_data\n",
    "import numpy as np\n",
    "from copy import deepcopy\n",
    "from PIL import Image, ImageOps, ImageDraw, ImageFont\n",
    "from sklearn.metrics import classification_report\n",
    "import matplotlib.pyplot as plt\n",
    "import warnings\n",
    "warnings.filterwarnings(\"ignore\")"
   ]
  },
  {
   "cell_type": "code",
   "execution_count": 2,
   "id": "4413f5a2-363f-4234-8210-4c9948007416",
   "metadata": {},
   "outputs": [],
   "source": [
    "# Specify font to draw on images\n",
    "font = ImageFont.truetype(\"utils/arial.ttf\", 9)"
   ]
  },
  {
   "cell_type": "code",
   "execution_count": 3,
   "id": "76d69b7e-f4e5-4536-86c7-e719ba2673bc",
   "metadata": {},
   "outputs": [
    {
     "name": "stdout",
     "output_type": "stream",
     "text": [
      "[INFO] Loading CIFAR-10 dataset...\n"
     ]
    }
   ],
   "source": [
    "# Load the CIFAR-10 dataset. If server is down (error 503), follow the big comment below.\n",
    "# If facing certificate error, follow this: https://stackoverflow.com/questions/69687794/unable-to-manually-load-cifar10-dataset\n",
    "\n",
    "# Download/Get the Python3-compatible CIFAR-10 dataset from https://www.cs.toronto.edu/~kriz/cifar-10-python.tar.gz or anywhere else.\n",
    "# Make sure tar.gz file is fully unzipped and in the same location as this .py file.\n",
    "# Use \"tar -zxvf cifar-10-python.tar.gz\" command to completely unzip the CIFAR-10 dataset to get a directory\n",
    "# named \"cifar-10-batches-py\" in the same location as this current .py file. \n",
    "print(\"[INFO] Loading CIFAR-10 dataset...\")\n",
    "# (trainX, trainY), (testX, testY) = cifar10.load_data()\n",
    "(trainX, trainY), (testX, testY) = load_data()"
   ]
  },
  {
   "cell_type": "code",
   "execution_count": 4,
   "id": "744f3b7b-bf99-49f1-8445-e8d88d8f56bd",
   "metadata": {},
   "outputs": [],
   "source": [
    "# Scale the pixel values to the range [0, 1]\n",
    "trainX = trainX.astype(\"float\") / 255.0\n",
    "testX = testX.astype(\"float\") / 255.0"
   ]
  },
  {
   "cell_type": "code",
   "execution_count": 5,
   "id": "340371d5-4ef2-4f15-93d2-1d2996502234",
   "metadata": {},
   "outputs": [],
   "source": [
    "# Add a channel dimension to the images\n",
    "trainX = np.expand_dims(trainX, axis=-1)\n",
    "testX = np.expand_dims(testX, axis=-1)"
   ]
  },
  {
   "cell_type": "code",
   "execution_count": 6,
   "id": "4d11de09-24e4-449a-a828-25c8c21ec7ed",
   "metadata": {},
   "outputs": [],
   "source": [
    "# One-hot encode the labels\n",
    "trainY = to_categorical(trainY, 10)\n",
    "testY = to_categorical(testY, 10)"
   ]
  },
  {
   "cell_type": "code",
   "execution_count": 7,
   "id": "9f5d1b97-a152-4b8f-9262-658a872798aa",
   "metadata": {},
   "outputs": [],
   "source": [
    "# initialize the label names for the CIFAR-10 dataset\n",
    "labelNames = [\"airplane\", \"automobile\", \"bird\", \"cat\", \"deer\", \"dog\", \"frog\", \"horse\", \"ship\", \"truck\"]"
   ]
  },
  {
   "cell_type": "code",
   "execution_count": 8,
   "id": "727bc620-5a4e-4326-bc3e-9abacf2cd51c",
   "metadata": {},
   "outputs": [
    {
     "name": "stdout",
     "output_type": "stream",
     "text": [
      "[INFO] Compiling the model...\n"
     ]
    },
    {
     "name": "stderr",
     "output_type": "stream",
     "text": [
      "2022-05-09 08:15:39.205871: I tensorflow/stream_executor/cuda/cuda_gpu_executor.cc:1052] successful NUMA node read from SysFS had negative value (-1), but there must be at least one NUMA node, so returning NUMA node zero\n",
      "2022-05-09 08:15:39.256353: I tensorflow/stream_executor/cuda/cuda_gpu_executor.cc:1052] successful NUMA node read from SysFS had negative value (-1), but there must be at least one NUMA node, so returning NUMA node zero\n",
      "2022-05-09 08:15:39.256803: I tensorflow/stream_executor/cuda/cuda_gpu_executor.cc:1052] successful NUMA node read from SysFS had negative value (-1), but there must be at least one NUMA node, so returning NUMA node zero\n",
      "2022-05-09 08:15:39.259152: I tensorflow/stream_executor/cuda/cuda_gpu_executor.cc:1052] successful NUMA node read from SysFS had negative value (-1), but there must be at least one NUMA node, so returning NUMA node zero\n",
      "2022-05-09 08:15:39.259601: I tensorflow/stream_executor/cuda/cuda_gpu_executor.cc:1052] successful NUMA node read from SysFS had negative value (-1), but there must be at least one NUMA node, so returning NUMA node zero\n",
      "2022-05-09 08:15:39.260046: I tensorflow/stream_executor/cuda/cuda_gpu_executor.cc:1052] successful NUMA node read from SysFS had negative value (-1), but there must be at least one NUMA node, so returning NUMA node zero\n",
      "2022-05-09 08:15:39.991362: I tensorflow/stream_executor/cuda/cuda_gpu_executor.cc:1052] successful NUMA node read from SysFS had negative value (-1), but there must be at least one NUMA node, so returning NUMA node zero\n",
      "2022-05-09 08:15:39.991701: I tensorflow/stream_executor/cuda/cuda_gpu_executor.cc:1052] successful NUMA node read from SysFS had negative value (-1), but there must be at least one NUMA node, so returning NUMA node zero\n",
      "2022-05-09 08:15:39.991983: I tensorflow/stream_executor/cuda/cuda_gpu_executor.cc:1052] successful NUMA node read from SysFS had negative value (-1), but there must be at least one NUMA node, so returning NUMA node zero\n",
      "2022-05-09 08:15:39.992205: I tensorflow/core/common_runtime/gpu/gpu_device.cc:1525] Created device /job:localhost/replica:0/task:0/device:GPU:0 with 7276 MB memory:  -> device: 0, name: Quadro M4000, pci bus id: 0000:00:05.0, compute capability: 5.2\n"
     ]
    }
   ],
   "source": [
    "# Initialize the optimizer and model\n",
    "print(\"[INFO] Compiling the model...\")\n",
    "opt = Adam(lr=1e-3)\n",
    "model = SimpleCNN.build(width=32, height=32, depth=3, classes=10)\n",
    "model.compile(loss=\"categorical_crossentropy\", optimizer=opt, metrics=[\"accuracy\"])"
   ]
  },
  {
   "cell_type": "code",
   "execution_count": 9,
   "id": "037537a5-5400-41a8-80e6-6013e4750e09",
   "metadata": {},
   "outputs": [
    {
     "name": "stdout",
     "output_type": "stream",
     "text": [
      "[INFO] Training the network...\n",
      "Epoch 1/20\n"
     ]
    },
    {
     "name": "stderr",
     "output_type": "stream",
     "text": [
      "2022-05-09 08:15:43.912401: I tensorflow/stream_executor/cuda/cuda_dnn.cc:377] Loaded cuDNN version 8302\n"
     ]
    },
    {
     "name": "stdout",
     "output_type": "stream",
     "text": [
      "782/782 [==============================] - 8s 7ms/step - loss: 1.6129 - accuracy: 0.4457 - val_loss: 1.3996 - val_accuracy: 0.5072\n",
      "Epoch 2/20\n",
      "782/782 [==============================] - 5s 6ms/step - loss: 1.1667 - accuracy: 0.5879 - val_loss: 1.1186 - val_accuracy: 0.5964\n",
      "Epoch 3/20\n",
      "782/782 [==============================] - 5s 6ms/step - loss: 1.0031 - accuracy: 0.6465 - val_loss: 1.0539 - val_accuracy: 0.6288\n",
      "Epoch 4/20\n",
      "782/782 [==============================] - 5s 6ms/step - loss: 0.9108 - accuracy: 0.6801 - val_loss: 1.0004 - val_accuracy: 0.6473\n",
      "Epoch 5/20\n",
      "782/782 [==============================] - 5s 6ms/step - loss: 0.8323 - accuracy: 0.7082 - val_loss: 0.9728 - val_accuracy: 0.6587\n",
      "Epoch 6/20\n",
      "782/782 [==============================] - 5s 6ms/step - loss: 0.7607 - accuracy: 0.7314 - val_loss: 0.9709 - val_accuracy: 0.6679\n",
      "Epoch 7/20\n",
      "782/782 [==============================] - 5s 6ms/step - loss: 0.7051 - accuracy: 0.7504 - val_loss: 1.2670 - val_accuracy: 0.5802\n",
      "Epoch 8/20\n",
      "782/782 [==============================] - 5s 7ms/step - loss: 0.6519 - accuracy: 0.7703 - val_loss: 0.9904 - val_accuracy: 0.6691\n",
      "Epoch 9/20\n",
      "782/782 [==============================] - 5s 6ms/step - loss: 0.6014 - accuracy: 0.7856 - val_loss: 1.0214 - val_accuracy: 0.6729\n",
      "Epoch 10/20\n",
      "782/782 [==============================] - 5s 6ms/step - loss: 0.5570 - accuracy: 0.8000 - val_loss: 1.1235 - val_accuracy: 0.6495\n",
      "Epoch 11/20\n",
      "782/782 [==============================] - 5s 6ms/step - loss: 0.5187 - accuracy: 0.8172 - val_loss: 1.2243 - val_accuracy: 0.6259\n",
      "Epoch 12/20\n",
      "782/782 [==============================] - 5s 6ms/step - loss: 0.4880 - accuracy: 0.8262 - val_loss: 1.2002 - val_accuracy: 0.6509\n",
      "Epoch 13/20\n",
      "782/782 [==============================] - 5s 6ms/step - loss: 0.4539 - accuracy: 0.8381 - val_loss: 1.0681 - val_accuracy: 0.6703\n",
      "Epoch 14/20\n",
      "782/782 [==============================] - 5s 7ms/step - loss: 0.4258 - accuracy: 0.8484 - val_loss: 1.1104 - val_accuracy: 0.6632\n",
      "Epoch 15/20\n",
      "782/782 [==============================] - 5s 6ms/step - loss: 0.4070 - accuracy: 0.8547 - val_loss: 1.2896 - val_accuracy: 0.6475\n",
      "Epoch 16/20\n",
      "782/782 [==============================] - 5s 6ms/step - loss: 0.3860 - accuracy: 0.8621 - val_loss: 1.1576 - val_accuracy: 0.6663\n",
      "Epoch 17/20\n",
      "782/782 [==============================] - 5s 6ms/step - loss: 0.3663 - accuracy: 0.8675 - val_loss: 1.1580 - val_accuracy: 0.6682\n",
      "Epoch 18/20\n",
      "782/782 [==============================] - 5s 6ms/step - loss: 0.3527 - accuracy: 0.8723 - val_loss: 1.2314 - val_accuracy: 0.6535\n",
      "Epoch 19/20\n",
      "782/782 [==============================] - 5s 6ms/step - loss: 0.3351 - accuracy: 0.8779 - val_loss: 1.2456 - val_accuracy: 0.6686\n",
      "Epoch 20/20\n",
      "782/782 [==============================] - 5s 6ms/step - loss: 0.3174 - accuracy: 0.8859 - val_loss: 1.2139 - val_accuracy: 0.6767\n"
     ]
    }
   ],
   "source": [
    "# Train the simple CNN on CIFAR-10\n",
    "print(\"[INFO] Training the network...\")\n",
    "H1 = model.fit(trainX, trainY, validation_data=(testX, testY), batch_size=64, epochs=20, verbose=1)"
   ]
  },
  {
   "cell_type": "code",
   "execution_count": 10,
   "id": "8080455a-3ebf-4933-b9e7-ec41a37103fa",
   "metadata": {},
   "outputs": [
    {
     "name": "stdout",
     "output_type": "stream",
     "text": [
      "[INFO] Normal testing images: \n",
      "[INFO] Loss: 1.2139, Accuracy: 0.6767\n",
      "\n"
     ]
    }
   ],
   "source": [
    "# Make predictions on the testing set for the model trained on non-adversarial images\n",
    "(loss, accuracy) = model.evaluate(x=testX, y=testY, verbose=0)\n",
    "print(\"[INFO] Normal testing images: \")\n",
    "print(\"[INFO] Loss: {:.4f}, Accuracy: {:.4f}\\n\".format(loss, accuracy))"
   ]
  },
  {
   "cell_type": "code",
   "execution_count": 11,
   "id": "331c820a-3941-4ee9-aa8f-84b9b8aa5d54",
   "metadata": {},
   "outputs": [
    {
     "name": "stdout",
     "output_type": "stream",
     "text": [
      "[INFO] Evaluating network...\n",
      "              precision    recall  f1-score   support\n",
      "\n",
      "    airplane       0.69      0.75      0.72      1000\n",
      "  automobile       0.84      0.72      0.78      1000\n",
      "        bird       0.54      0.58      0.56      1000\n",
      "         cat       0.49      0.47      0.48      1000\n",
      "        deer       0.65      0.58      0.62      1000\n",
      "         dog       0.56      0.62      0.59      1000\n",
      "        frog       0.82      0.66      0.74      1000\n",
      "       horse       0.72      0.76      0.74      1000\n",
      "        ship       0.72      0.86      0.78      1000\n",
      "       truck       0.77      0.76      0.77      1000\n",
      "\n",
      "    accuracy                           0.68     10000\n",
      "   macro avg       0.68      0.68      0.68     10000\n",
      "weighted avg       0.68      0.68      0.68     10000\n",
      "\n"
     ]
    }
   ],
   "source": [
    "# Predictions on non-adversarial images for classification report\n",
    "print(\"[INFO] Evaluating network...\")\n",
    "predictions_normal = model.predict(testX, batch_size=32)\n",
    "print(classification_report(testY.argmax(axis=1), predictions_normal.argmax(axis=1), target_names=labelNames))"
   ]
  },
  {
   "cell_type": "code",
   "execution_count": 12,
   "id": "f8ffe291-7077-4721-8d88-4a7e88915d16",
   "metadata": {},
   "outputs": [
    {
     "name": "stdout",
     "output_type": "stream",
     "text": [
      "[INFO] Generating adversarial examples with FGSM...\n",
      "\n"
     ]
    }
   ],
   "source": [
    "# Generate a set of adversarial images from the test set (in order to evaluate the model performance\n",
    "# *before* and *after* the mixed adversarial training)\n",
    "print(\"[INFO] Generating adversarial examples with FGSM...\\n\")\n",
    "(advX, advY) = next(generate_adversarial_batch(model, len(testX), testX, testY, (32, 32, 3), eps=0.01))"
   ]
  },
  {
   "cell_type": "code",
   "execution_count": 13,
   "id": "5b1068ca-73aa-46a3-94dc-db48fb6fd8d9",
   "metadata": {},
   "outputs": [
    {
     "name": "stdout",
     "output_type": "stream",
     "text": [
      "[INFO] Adversarial testing images:\n",
      "[INFO] Loss: 8.1357, Accuracy: 0.0720\n",
      "\n"
     ]
    }
   ],
   "source": [
    "# Re-evaluate the model on the adversarial images\n",
    "(loss, accuracy) = model.evaluate(x=advX, y=advY, verbose=0)\n",
    "print(\"[INFO] Adversarial testing images:\")\n",
    "print(\"[INFO] Loss: {:.4f}, Accuracy: {:.4f}\\n\".format(loss, accuracy))"
   ]
  },
  {
   "cell_type": "code",
   "execution_count": 14,
   "id": "bb5d65cb-f614-486c-8ff8-3730eb728126",
   "metadata": {},
   "outputs": [
    {
     "name": "stdout",
     "output_type": "stream",
     "text": [
      "[INFO] Evaluating network...\n",
      "              precision    recall  f1-score   support\n",
      "\n",
      "    airplane       0.12      0.15      0.13      1000\n",
      "  automobile       0.09      0.06      0.08      1000\n",
      "        bird       0.02      0.03      0.03      1000\n",
      "         cat       0.00      0.01      0.00      1000\n",
      "        deer       0.01      0.01      0.01      1000\n",
      "         dog       0.03      0.03      0.03      1000\n",
      "        frog       0.07      0.03      0.04      1000\n",
      "       horse       0.12      0.10      0.11      1000\n",
      "        ship       0.17      0.20      0.18      1000\n",
      "       truck       0.12      0.11      0.11      1000\n",
      "\n",
      "    accuracy                           0.07     10000\n",
      "   macro avg       0.08      0.07      0.07     10000\n",
      "weighted avg       0.08      0.07      0.07     10000\n",
      "\n"
     ]
    }
   ],
   "source": [
    "# Predictions on adversarial images for classification report\n",
    "print(\"[INFO] Evaluating network...\")\n",
    "predictions_adv = model.predict(advX, batch_size=32)\n",
    "print(classification_report(advY.argmax(axis=1), predictions_adv.argmax(axis=1), target_names=labelNames))"
   ]
  },
  {
   "cell_type": "code",
   "execution_count": 15,
   "id": "895c31ed-db3e-4615-9e89-97a60a435497",
   "metadata": {},
   "outputs": [
    {
     "data": {
      "image/png": "[encoded data removed]",
      "text/plain": [
       "<Figure size 432x288 with 1 Axes>"
      ]
     },
     "metadata": {},
     "output_type": "display_data"
    }
   ],
   "source": [
    "# plot the training loss and accuracy over time before applying defense\n",
    "plt.style.use(\"ggplot\")\n",
    "plt.figure()\n",
    "plt.plot(np.arange(0, 20), H1.history[\"loss\"], label=\"train_loss\")\n",
    "plt.plot(np.arange(0, 20), H1.history[\"val_loss\"], label=\"val_loss\")\n",
    "plt.plot(np.arange(0, 20), H1.history[\"accuracy\"], label=\"train_acc\")\n",
    "plt.plot(np.arange(0, 20), H1.history[\"val_accuracy\"], label=\"val_acc\")\n",
    "plt.title(\"Training Loss and Accuracy *before* applying FGSM defense\")\n",
    "plt.xlabel(\"Epoch #\")\n",
    "plt.ylabel(\"Loss/Accuracy\")\n",
    "plt.legend()\n",
    "plt.show()"
   ]
  },
  {
   "cell_type": "markdown",
   "id": "ed3338f4-1262-4826-9ded-260747425c43",
   "metadata": {},
   "source": [
    "## FGSM Defense"
   ]
  },
  {
   "cell_type": "code",
   "execution_count": 16,
   "id": "cddb8329-8586-4ab6-aa57-105fae303fc4",
   "metadata": {},
   "outputs": [
    {
     "name": "stdout",
     "output_type": "stream",
     "text": [
      "[INFO] Re-compiling the model...\n"
     ]
    }
   ],
   "source": [
    "# Lower the learning rate and re-compile the model (in order to fine-tune the model on the mixed batches\n",
    "# of normal images and the dynamically generated adversarial images)\n",
    "print(\"[INFO] Re-compiling the model...\")\n",
    "opt = Adam(lr=1e-4)\n",
    "model.compile(loss=\"categorical_crossentropy\", optimizer=opt, metrics=[\"accuracy\"])"
   ]
  },
  {
   "cell_type": "code",
   "execution_count": 17,
   "id": "a542d50e-7924-4d0b-96d1-6f40bfa9ef0f",
   "metadata": {},
   "outputs": [
    {
     "name": "stdout",
     "output_type": "stream",
     "text": [
      "[INFO] Creating the mixed data generator...\n"
     ]
    }
   ],
   "source": [
    "# Initialize the data generator to create data batches containing a mix of both\n",
    "# *normal* and *adversarial* images\n",
    "print(\"[INFO] Creating the mixed data generator...\")\n",
    "dataGen = generate_mixed_adversarial_batch(model, 64, trainX, trainY, (32, 32, 3), eps=0.01, split=0.5)"
   ]
  },
  {
   "cell_type": "code",
   "execution_count": 18,
   "id": "6d6cfac3-b878-49f6-800d-97a2274606ea",
   "metadata": {},
   "outputs": [
    {
     "name": "stdout",
     "output_type": "stream",
     "text": [
      "[INFO] Fine-tuning the network in dynamic mixed data...\n",
      "Epoch 1/10\n",
      "781/781 [==============================] - 321s 410ms/step - loss: 2.0383 - accuracy: 0.5445 - val_loss: 4.0664 - val_accuracy: 0.2057\n",
      "Epoch 2/10\n",
      "781/781 [==============================] - 319s 408ms/step - loss: 1.4990 - accuracy: 0.5732 - val_loss: 3.2478 - val_accuracy: 0.2419\n",
      "Epoch 3/10\n",
      "781/781 [==============================] - 320s 411ms/step - loss: 1.3424 - accuracy: 0.5867 - val_loss: 2.7965 - val_accuracy: 0.2674\n",
      "Epoch 4/10\n",
      "781/781 [==============================] - 320s 410ms/step - loss: 1.2448 - accuracy: 0.5956 - val_loss: 2.5414 - val_accuracy: 0.2927\n",
      "Epoch 5/10\n",
      "781/781 [==============================] - 314s 402ms/step - loss: 1.1834 - accuracy: 0.6043 - val_loss: 2.3032 - val_accuracy: 0.3111\n",
      "Epoch 6/10\n",
      "781/781 [==============================] - 308s 394ms/step - loss: 1.1192 - accuracy: 0.6142 - val_loss: 2.1697 - val_accuracy: 0.3309\n",
      "Epoch 7/10\n",
      "781/781 [==============================] - 306s 393ms/step - loss: 1.0828 - accuracy: 0.6213 - val_loss: 2.0135 - val_accuracy: 0.3447\n",
      "Epoch 8/10\n",
      "781/781 [==============================] - 311s 399ms/step - loss: 1.0525 - accuracy: 0.6277 - val_loss: 1.9101 - val_accuracy: 0.3583\n",
      "Epoch 9/10\n",
      "781/781 [==============================] - 313s 402ms/step - loss: 1.0291 - accuracy: 0.6331 - val_loss: 1.8364 - val_accuracy: 0.3767\n",
      "Epoch 10/10\n",
      "781/781 [==============================] - 314s 402ms/step - loss: 1.0094 - accuracy: 0.6394 - val_loss: 1.7643 - val_accuracy: 0.3838\n"
     ]
    }
   ],
   "source": [
    "# Fine-tune the CNN on the adversarial images\n",
    "print(\"[INFO] Fine-tuning the network in dynamic mixed data...\")\n",
    "# H2 = model.fit(dataGen, steps_per_epoch=len(trainX)//64, epochs=10, verbose=1)\n",
    "# H2 = model.fit(dataGen, steps_per_epoch=len(trainX)//64, validation_data=(testX, testY), epochs=10, verbose=1)\n",
    "H2 = model.fit(dataGen, steps_per_epoch=len(trainX)//64, validation_data=(advX, advY), epochs=10, verbose=1)"
   ]
  },
  {
   "cell_type": "code",
   "execution_count": null,
   "id": "dd1d827a-31a4-4fa1-b808-d0a3313959ab",
   "metadata": {},
   "outputs": [],
   "source": [
    "# Save model after applying FGSM defense\n",
    "model.save('robust_model')"
   ]
  },
  {
   "cell_type": "code",
   "execution_count": 19,
   "id": "fc7f37a6-3c90-44d2-801e-f48206651564",
   "metadata": {},
   "outputs": [
    {
     "name": "stdout",
     "output_type": "stream",
     "text": [
      "[INFO] Normal testing images *after* fine-tuning:\n",
      "[INFO] Loss: 0.8818, Accuracy: 0.6945\n",
      "\n"
     ]
    }
   ],
   "source": [
    "# Now that the model is fine-tuned, evaluate it on the test set (i.e, non-adversarial images) again to\n",
    "# see if the overall performance of the model has degraded\n",
    "(loss, accuracy) = model.evaluate(x=testX, y=testY, verbose=0)\n",
    "print(\"[INFO] Normal testing images *after* fine-tuning:\")\n",
    "print(\"[INFO] Loss: {:.4f}, Accuracy: {:.4f}\\n\".format(loss, accuracy))"
   ]
  },
  {
   "cell_type": "code",
   "execution_count": 20,
   "id": "b74c1791-fbd9-45e4-8eb2-fd3dc524397b",
   "metadata": {},
   "outputs": [
    {
     "name": "stdout",
     "output_type": "stream",
     "text": [
      "[INFO] Evaluating network...\n",
      "              precision    recall  f1-score   support\n",
      "\n",
      "    airplane       0.74      0.74      0.74      1000\n",
      "  automobile       0.81      0.81      0.81      1000\n",
      "        bird       0.57      0.53      0.55      1000\n",
      "         cat       0.52      0.45      0.48      1000\n",
      "        deer       0.63      0.64      0.63      1000\n",
      "         dog       0.59      0.59      0.59      1000\n",
      "        frog       0.72      0.81      0.76      1000\n",
      "       horse       0.74      0.77      0.75      1000\n",
      "        ship       0.80      0.82      0.81      1000\n",
      "       truck       0.77      0.78      0.78      1000\n",
      "\n",
      "    accuracy                           0.69     10000\n",
      "   macro avg       0.69      0.69      0.69     10000\n",
      "weighted avg       0.69      0.69      0.69     10000\n",
      "\n"
     ]
    }
   ],
   "source": [
    "# Predictions on non-adversarial images after defense for classification report\n",
    "print(\"[INFO] Evaluating network...\")\n",
    "predictions_normal_after = model.predict(testX, batch_size=32)\n",
    "print(classification_report(testY.argmax(axis=1), predictions_normal_after.argmax(axis=1), \\\n",
    "                            target_names=labelNames))"
   ]
  },
  {
   "cell_type": "code",
   "execution_count": 21,
   "id": "97832a85-bb2e-4f0b-bbe4-31b768a75bcb",
   "metadata": {},
   "outputs": [
    {
     "name": "stdout",
     "output_type": "stream",
     "text": [
      "[INFO] Adversarial images *after* fine-tuning:\n",
      "[INFO] Loss: 1.7643, Accuracy: 0.3838\n",
      "\n"
     ]
    }
   ],
   "source": [
    "# Do a final evaluation of the model on the adversarial images\n",
    "(loss, accuracy) = model.evaluate(x=advX, y=advY, verbose=0)\n",
    "print(\"[INFO] Adversarial images *after* fine-tuning:\")\n",
    "print(\"[INFO] Loss: {:.4f}, Accuracy: {:.4f}\\n\".format(loss, accuracy))"
   ]
  },
  {
   "cell_type": "code",
   "execution_count": 22,
   "id": "1268daf0-beed-4130-ae01-b7cedade7710",
   "metadata": {},
   "outputs": [
    {
     "name": "stdout",
     "output_type": "stream",
     "text": [
      "[INFO] Evaluating network...\n",
      "              precision    recall  f1-score   support\n",
      "\n",
      "    airplane       0.46      0.49      0.48      1000\n",
      "  automobile       0.57      0.53      0.55      1000\n",
      "        bird       0.21      0.22      0.21      1000\n",
      "         cat       0.13      0.13      0.13      1000\n",
      "        deer       0.23      0.21      0.22      1000\n",
      "         dog       0.27      0.28      0.27      1000\n",
      "        frog       0.51      0.47      0.49      1000\n",
      "       horse       0.47      0.49      0.48      1000\n",
      "        ship       0.52      0.57      0.54      1000\n",
      "       truck       0.48      0.46      0.47      1000\n",
      "\n",
      "    accuracy                           0.38     10000\n",
      "   macro avg       0.38      0.38      0.38     10000\n",
      "weighted avg       0.38      0.38      0.38     10000\n",
      "\n"
     ]
    }
   ],
   "source": [
    "# Predictions on adversarial images after defense for classification report\n",
    "print(\"[INFO] Evaluating network...\")\n",
    "predictions_adv_after = model.predict(advX, batch_size=32)\n",
    "print(classification_report(advY.argmax(axis=1), predictions_adv_after.argmax(axis=1), target_names=labelNames))"
   ]
  },
  {
   "cell_type": "code",
   "execution_count": 23,
   "id": "d0c54fd8-0ffa-43a8-bef2-89977af0f618",
   "metadata": {},
   "outputs": [
    {
     "data": {
      "image/png": "[encoded data removed]",
      "text/plain": [
       "<Figure size 432x288 with 1 Axes>"
      ]
     },
     "metadata": {},
     "output_type": "display_data"
    }
   ],
   "source": [
    "# plot the training loss and accuracy over time before applying defense\n",
    "plt.style.use(\"ggplot\")\n",
    "plt.figure()\n",
    "plt.plot(np.arange(0, 10), H2.history[\"loss\"], label=\"train_loss\")\n",
    "plt.plot(np.arange(0, 10), H2.history[\"val_loss\"], label=\"val_loss\")\n",
    "plt.plot(np.arange(0, 10), H2.history[\"accuracy\"], label=\"train_acc\")\n",
    "plt.plot(np.arange(0, 10), H2.history[\"val_accuracy\"], label=\"val_acc\")\n",
    "plt.title(\"Training Loss and Accuracy *after* applying FGSM defense\")\n",
    "plt.xlabel(\"Epoch #\")\n",
    "plt.ylabel(\"Loss/Accuracy\")\n",
    "plt.legend()\n",
    "plt.show()"
   ]
  },
  {
   "cell_type": "code",
   "execution_count": null,
   "id": "424eceb6-7cca-4a13-9015-81687115665b",
   "metadata": {},
   "outputs": [],
   "source": []
  }
 ],
 "metadata": {
  "kernelspec": {
   "display_name": "Python 3 (ipykernel)",
   "language": "python",
   "name": "python3"
  },
  "language_info": {
   "codemirror_mode": {
    "name": "ipython",
    "version": 3
   },
   "file_extension": ".py",
   "mimetype": "text/x-python",
   "name": "python",
   "nbconvert_exporter": "python",
   "pygments_lexer": "ipython3",
   "version": "3.8.10"
  }
 },
 "nbformat": 4,
 "nbformat_minor": 5
}
