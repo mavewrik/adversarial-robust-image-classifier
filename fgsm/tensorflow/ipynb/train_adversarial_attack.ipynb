{
 "cells": [
  {
   "cell_type": "code",
   "execution_count": null,
   "id": "e5a0f20d-af50-494b-8c73-4589963e16d6",
   "metadata": {},
   "outputs": [],
   "source": [
    "# !pip install numpy scikit-learn Pillow pathlib"
   ]
  },
  {
   "cell_type": "code",
   "execution_count": 1,
   "id": "a94df480-865b-440f-bb41-17aab9ef2b9e",
   "metadata": {},
   "outputs": [],
   "source": [
    "from utils.simplecnn import SimpleCNN\n",
    "from utils.fgsm import generate_image_adversary\n",
    "from tensorflow.keras.optimizers import Adam\n",
    "from tensorflow.keras.utils import to_categorical\n",
    "from tensorflow.keras.datasets import cifar10\n",
    "from utils.cifar_10 import load_data\n",
    "import numpy as np\n",
    "from PIL import Image, ImageOps, ImageDraw, ImageFont\n",
    "from copy import deepcopy"
   ]
  },
  {
   "cell_type": "code",
   "execution_count": null,
   "id": "78dc01cd-b3f6-4085-983f-b14d0312b75f",
   "metadata": {},
   "outputs": [],
   "source": [
    "# ssl._create_default_https_context = ssl._create_unverified_context"
   ]
  },
  {
   "cell_type": "code",
   "execution_count": null,
   "id": "c53a7107-1655-4f4c-87e0-2f0be9fd932c",
   "metadata": {},
   "outputs": [],
   "source": [
    "# !tar -zxvf cifar-10-python.tar.gz"
   ]
  },
  {
   "cell_type": "code",
   "execution_count": 2,
   "id": "50ef07fd-90cf-41cb-8be0-b548aaf8d809",
   "metadata": {},
   "outputs": [],
   "source": [
    "# Specify font to draw text on image\n",
    "font = ImageFont.truetype(\"arial.ttf\", 9)"
   ]
  },
  {
   "cell_type": "code",
   "execution_count": null,
   "id": "8aa72023-638e-4cba-890b-dd18bf1e6a46",
   "metadata": {},
   "outputs": [],
   "source": [
    "# Load the CIFAR-10 dataset. If server is down (error 503), follow the big comment below.\n",
    "# If facing certificate error, follow this: https://stackoverflow.com/questions/69687794/unable-to-manually-load-cifar10-dataset\n",
    "\n",
    "# Download/Get the Python3-compatible CIFAR-10 dataset from https://www.cs.toronto.edu/~kriz/cifar-10-python.tar.gz or anywhere else.\n",
    "# Make sure tar.gz file is fully unzipped and in the same location as this .py file.\n",
    "# Use \"tar -zxvf cifar-10-python.tar.gz\" command to completely unzip the CIFAR-10 dataset to get a directory\n",
    "# named \"cifar-10-batches-py\" in the same location as this current .py file.\n",
    "\n",
    "# print(\"[INFO] Loading CIFAR-10 dataset...\")\n",
    "# (trainX, trainY), (testX, testY) = cifar10.load_data()"
   ]
  },
  {
   "cell_type": "code",
   "execution_count": 3,
   "id": "d8afc2d7-a444-4803-86f9-6a5cf96cf99c",
   "metadata": {},
   "outputs": [
    {
     "name": "stdout",
     "output_type": "stream",
     "text": [
      "[INFO] Loading CIFAR-10 dataset...\n"
     ]
    }
   ],
   "source": [
    "# Load the CIFAR-10 dataset\n",
    "print(\"[INFO] Loading CIFAR-10 dataset...\")\n",
    "(trainX, trainY), (testX, testY) = load_data()"
   ]
  },
  {
   "cell_type": "code",
   "execution_count": 4,
   "id": "0c80fcaf-99eb-4bf8-8a25-7bb3b4377c91",
   "metadata": {},
   "outputs": [],
   "source": [
    "# Scale the pixel values to the range [0, 1]\n",
    "trainX = trainX.astype(\"float\") / 255.0\n",
    "testX = testX.astype(\"float\") / 255.0"
   ]
  },
  {
   "cell_type": "code",
   "execution_count": 5,
   "id": "a6253567-a6a5-4652-8feb-09c527d339d0",
   "metadata": {},
   "outputs": [],
   "source": [
    "# Add a channel dimension to the images\n",
    "trainX = np.expand_dims(trainX, axis=-1)\n",
    "testX = np.expand_dims(testX, axis=-1)"
   ]
  },
  {
   "cell_type": "code",
   "execution_count": 6,
   "id": "7834c3fc-1590-414b-8499-8ba3417d46bc",
   "metadata": {},
   "outputs": [],
   "source": [
    "# One-hot encode the labels\n",
    "trainY = to_categorical(trainY, 10)\n",
    "testY = to_categorical(testY, 10)"
   ]
  },
  {
   "cell_type": "code",
   "execution_count": 7,
   "id": "be3f4270-5a15-443b-8e1e-ac8782ac2c88",
   "metadata": {},
   "outputs": [],
   "source": [
    "# initialize the label names for the CIFAR-10 dataset\n",
    "labelNames = [\"airplane\", \"automobile\", \"bird\", \"cat\", \"deer\", \"dog\", \"frog\", \"horse\", \"ship\", \"truck\"]"
   ]
  },
  {
   "cell_type": "code",
   "execution_count": 8,
   "id": "0f7d1eae-e149-49ca-b984-eaa1ebe8f4f8",
   "metadata": {},
   "outputs": [
    {
     "name": "stdout",
     "output_type": "stream",
     "text": [
      "[INFO] Compiling the model...\n"
     ]
    },
    {
     "name": "stderr",
     "output_type": "stream",
     "text": [
      "/usr/local/lib/python3.8/dist-packages/keras/optimizer_v2/adam.py:105: UserWarning: The `lr` argument is deprecated, use `learning_rate` instead.\n",
      "  super(Adam, self).__init__(name, **kwargs)\n",
      "2022-05-08 12:57:17.073424: I tensorflow/stream_executor/cuda/cuda_gpu_executor.cc:1052] successful NUMA node read from SysFS had negative value (-1), but there must be at least one NUMA node, so returning NUMA node zero\n",
      "2022-05-08 12:57:17.161677: I tensorflow/stream_executor/cuda/cuda_gpu_executor.cc:1052] successful NUMA node read from SysFS had negative value (-1), but there must be at least one NUMA node, so returning NUMA node zero\n",
      "2022-05-08 12:57:17.162610: I tensorflow/stream_executor/cuda/cuda_gpu_executor.cc:1052] successful NUMA node read from SysFS had negative value (-1), but there must be at least one NUMA node, so returning NUMA node zero\n",
      "2022-05-08 12:57:17.168279: I tensorflow/stream_executor/cuda/cuda_gpu_executor.cc:1052] successful NUMA node read from SysFS had negative value (-1), but there must be at least one NUMA node, so returning NUMA node zero\n",
      "2022-05-08 12:57:17.168940: I tensorflow/stream_executor/cuda/cuda_gpu_executor.cc:1052] successful NUMA node read from SysFS had negative value (-1), but there must be at least one NUMA node, so returning NUMA node zero\n",
      "2022-05-08 12:57:17.169413: I tensorflow/stream_executor/cuda/cuda_gpu_executor.cc:1052] successful NUMA node read from SysFS had negative value (-1), but there must be at least one NUMA node, so returning NUMA node zero\n",
      "2022-05-08 12:57:18.261907: I tensorflow/stream_executor/cuda/cuda_gpu_executor.cc:1052] successful NUMA node read from SysFS had negative value (-1), but there must be at least one NUMA node, so returning NUMA node zero\n",
      "2022-05-08 12:57:18.262298: I tensorflow/stream_executor/cuda/cuda_gpu_executor.cc:1052] successful NUMA node read from SysFS had negative value (-1), but there must be at least one NUMA node, so returning NUMA node zero\n",
      "2022-05-08 12:57:18.262608: I tensorflow/stream_executor/cuda/cuda_gpu_executor.cc:1052] successful NUMA node read from SysFS had negative value (-1), but there must be at least one NUMA node, so returning NUMA node zero\n",
      "2022-05-08 12:57:18.262871: I tensorflow/core/common_runtime/gpu/gpu_device.cc:1525] Created device /job:localhost/replica:0/task:0/device:GPU:0 with 7276 MB memory:  -> device: 0, name: Quadro M4000, pci bus id: 0000:00:05.0, compute capability: 5.2\n"
     ]
    }
   ],
   "source": [
    "# Initialize the optimizer and the model\n",
    "print(\"[INFO] Compiling the model...\")\n",
    "opt = Adam(lr=1e-3)\n",
    "model = SimpleCNN.build(width=32, height=32, depth=3, classes=10)\n",
    "model.compile(loss=\"categorical_crossentropy\", optimizer=opt, metrics=[\"accuracy\"])"
   ]
  },
  {
   "cell_type": "code",
   "execution_count": 9,
   "id": "7478f424-0aab-4b39-9d80-13590c599f41",
   "metadata": {},
   "outputs": [
    {
     "name": "stdout",
     "output_type": "stream",
     "text": [
      "[INFO] Training the network...\n",
      "Epoch 1/10\n"
     ]
    },
    {
     "name": "stderr",
     "output_type": "stream",
     "text": [
      "2022-05-08 12:57:27.598834: I tensorflow/stream_executor/cuda/cuda_dnn.cc:377] Loaded cuDNN version 8302\n"
     ]
    },
    {
     "name": "stdout",
     "output_type": "stream",
     "text": [
      "782/782 [==============================] - 14s 13ms/step - loss: 1.6535 - accuracy: 0.4362 - val_loss: 1.3164 - val_accuracy: 0.5397\n",
      "Epoch 2/10\n",
      "782/782 [==============================] - 9s 11ms/step - loss: 1.1948 - accuracy: 0.5773 - val_loss: 1.0633 - val_accuracy: 0.6188\n",
      "Epoch 3/10\n",
      "782/782 [==============================] - 9s 11ms/step - loss: 1.0327 - accuracy: 0.6354 - val_loss: 0.9893 - val_accuracy: 0.6489\n",
      "Epoch 4/10\n",
      "782/782 [==============================] - 9s 12ms/step - loss: 0.9345 - accuracy: 0.6732 - val_loss: 0.9692 - val_accuracy: 0.6561\n",
      "Epoch 5/10\n",
      "782/782 [==============================] - 8s 11ms/step - loss: 0.8564 - accuracy: 0.6984 - val_loss: 1.0421 - val_accuracy: 0.6430\n",
      "Epoch 6/10\n",
      "782/782 [==============================] - 9s 11ms/step - loss: 0.7916 - accuracy: 0.7212 - val_loss: 0.9307 - val_accuracy: 0.6766\n",
      "Epoch 7/10\n",
      "782/782 [==============================] - 9s 11ms/step - loss: 0.7289 - accuracy: 0.7444 - val_loss: 0.9186 - val_accuracy: 0.6851\n",
      "Epoch 8/10\n",
      "782/782 [==============================] - 9s 11ms/step - loss: 0.6816 - accuracy: 0.7589 - val_loss: 1.1232 - val_accuracy: 0.6101\n",
      "Epoch 9/10\n",
      "782/782 [==============================] - 9s 11ms/step - loss: 0.6275 - accuracy: 0.7781 - val_loss: 1.1592 - val_accuracy: 0.6289\n",
      "Epoch 10/10\n",
      "782/782 [==============================] - 8s 11ms/step - loss: 0.5907 - accuracy: 0.7902 - val_loss: 0.9951 - val_accuracy: 0.6815\n"
     ]
    },
    {
     "data": {
      "text/plain": [
       "<keras.callbacks.History at 0x7fc3b2eafbb0>"
      ]
     },
     "execution_count": 9,
     "metadata": {},
     "output_type": "execute_result"
    }
   ],
   "source": [
    "# Train the simple CNN on the CIFAR-10 dataset\n",
    "print(\"[INFO] Training the network...\")\n",
    "model.fit(trainX, trainY, validation_data=(testX, testY), batch_size=64, epochs=10, verbose=1)"
   ]
  },
  {
   "cell_type": "code",
   "execution_count": 23,
   "id": "009e85b2-3dc9-4de6-bbf6-19b18b9cd5f0",
   "metadata": {},
   "outputs": [
    {
     "name": "stdout",
     "output_type": "stream",
     "text": [
      "INFO:tensorflow:Assets written to: naive_model/assets\n"
     ]
    }
   ],
   "source": [
    "model.save('naive_model')"
   ]
  },
  {
   "cell_type": "code",
   "execution_count": 11,
   "id": "6ab699d0-5602-4184-ac5f-112b2b9c72e3",
   "metadata": {},
   "outputs": [
    {
     "name": "stdout",
     "output_type": "stream",
     "text": [
      "[INFO] Loss: 0.9951, Accuracy: 0.6815\n"
     ]
    }
   ],
   "source": [
    "# Make predictions on the testing set for the model trained on non-adversarial images\n",
    "(loss, acc) = model.evaluate(x=testX, y=testY, verbose=0)\n",
    "print(\"[INFO] Loss: {:.4f}, Accuracy: {:.4f}\".format(loss, acc))"
   ]
  },
  {
   "cell_type": "code",
   "execution_count": 24,
   "id": "9e88b7bb-97cd-49dc-aca3-7ba0fd8537ba",
   "metadata": {},
   "outputs": [],
   "source": [
    "# Loop over a sample of the testing images\n",
    "for i in np.random.choice(np.arange(0, len(testX)), size=(10,)):\n",
    "    # Grab the current image and label\n",
    "    image = testX[i]\n",
    "    label = testY[i]\n",
    "    # Generate an image adversary for the current image and make a prediction on the adversary image\n",
    "    adversary = generate_image_adversary(model, image.reshape(1, 32, 32, 3), label, eps=0.01)\n",
    "    pred = model.predict(adversary)\n",
    "    # Scale both the original image and the adversary image to the range [0, 255]\n",
    "    # and convert them to unsigned 8-bit integers\n",
    "    adversary = adversary.reshape((32, 32, 3)) * 255\n",
    "    adversary = np.clip(adversary, 0, 255).astype(\"uint8\")\n",
    "    image = image.reshape((32, 32, 3)) * 255\n",
    "    image = image.astype(\"uint8\")\n",
    "    # # Convert the image and adversarial image from grayscale to three channel (in order to draw on the image)\n",
    "    # image = np.dstack([image] * 3)\n",
    "    # adversary = np.dstack([adversary] * 3)\n",
    "    # Resize the images in order to visualize them later\n",
    "    image = Image.fromarray(image).resize((96, 96))\n",
    "    adversary = Image.fromarray(adversary).resize((96, 96))\n",
    "    # image = cv2.resize(image, (96, 96))\n",
    "    # adversary = cv2.resize(adversary, (96, 96))\n",
    "    # Determine the predicted label for both the original image and the adversarial image\n",
    "    imagePred = label.argmax()\n",
    "    adversaryPred = pred[0].argmax()\n",
    "    color = (0, 255, 0)\n",
    "    # If the image prediction does not match with the adversarial prediction then update the color\n",
    "    if imagePred != adversaryPred:\n",
    "        color = (255, 0, 0)\n",
    "    # Draw the predictions on the respective output images\n",
    "    # cv2.putText(image, str(imagePred), (2, 25), cv2.FONT_HERSHEY_SIMPLEX, 0.95, (0, 255, 0), 2)\n",
    "    # cv2.putText(adversary, str(adversaryPred), (2, 25), cv2.FONT_HERSHEY_SIMPLEX, 0.95, color, 2)\n",
    "    image_copy = deepcopy(image)\n",
    "    adversary_copy = deepcopy(adversary)\n",
    "    draw_image = ImageDraw.Draw(image_copy)\n",
    "    draw_image.text((10, 10), \"{}\".format(labelNames[imagePred]), (0,255,0), font=font)\n",
    "    draw_adversary = ImageDraw.Draw(adversary_copy)\n",
    "    draw_adversary.text((10, 10), \"{}\".format(labelNames[adversaryPred]), color, font=font)\n",
    "    # Stack the two images horizontally and then show the original image and its adversary\n",
    "    output = np.hstack([image_copy, adversary_copy])\n",
    "    # cv2.imshow(\"FGSM Adversarial Images\", output)\n",
    "    # cv2.waitKey(0)\n",
    "    Image.fromarray(output)"
   ]
  },
  {
   "cell_type": "code",
   "execution_count": null,
   "id": "70edb198-f524-4a0c-b568-d4b7b7ad6814",
   "metadata": {},
   "outputs": [],
   "source": []
  },
  {
   "cell_type": "code",
   "execution_count": null,
   "id": "4bbd5bd5-b7d0-4b78-bd1a-67c2d354a6c7",
   "metadata": {},
   "outputs": [],
   "source": []
  },
  {
   "cell_type": "code",
   "execution_count": null,
   "id": "698ea327-174f-4572-85e4-53a9f6048774",
   "metadata": {},
   "outputs": [],
   "source": []
  },
  {
   "cell_type": "code",
   "execution_count": 12,
   "id": "b50ddcb9-34b4-48e5-9c66-2b4f53f0531b",
   "metadata": {},
   "outputs": [],
   "source": [
    "# # Grab the current image and label\n",
    "# image = testX[7]\n",
    "# label = testY[7]"
   ]
  },
  {
   "cell_type": "code",
   "execution_count": null,
   "id": "51beafa4-4d41-4931-8cd4-e01bdbc83189",
   "metadata": {},
   "outputs": [],
   "source": [
    "# label"
   ]
  },
  {
   "cell_type": "code",
   "execution_count": 13,
   "id": "9363f698-7941-4139-9a46-98655148b096",
   "metadata": {},
   "outputs": [],
   "source": [
    "# # Generate an image adversary for the current image and make a prediction on the adversary image\n",
    "# adversary = generate_image_adversary(model, image.reshape(1, 32, 32, 3), label, eps=0.01)\n",
    "# pred = model.predict(adversary)"
   ]
  },
  {
   "cell_type": "code",
   "execution_count": null,
   "id": "a9d1e62c-3bb8-408d-8fb9-d485386defe6",
   "metadata": {},
   "outputs": [],
   "source": [
    "# pred"
   ]
  },
  {
   "cell_type": "code",
   "execution_count": 14,
   "id": "121ed737-bed7-4436-b577-338670e06904",
   "metadata": {},
   "outputs": [],
   "source": [
    "# # Scale both the original image and the adversary image to the range [0, 255]\n",
    "# # and convert them to unsigned 8-bit integers\n",
    "# adversary = adversary.reshape((32, 32, 3)) * 255\n",
    "# adversary = np.clip(adversary, 0, 255).astype(\"uint8\")\n",
    "# image = image.reshape((32, 32, 3)) * 255\n",
    "# image = image.astype(\"uint8\")"
   ]
  },
  {
   "cell_type": "code",
   "execution_count": 15,
   "id": "31c7d936-8018-42b4-b28c-635b1870b61a",
   "metadata": {},
   "outputs": [],
   "source": [
    "# # Resize the images in order to visualize them later\n",
    "# image = Image.fromarray(image).resize((96, 96))\n",
    "# adversary = Image.fromarray(adversary).resize((96, 96))"
   ]
  },
  {
   "cell_type": "code",
   "execution_count": 16,
   "id": "882ddef4-cab5-41f2-aaa8-3e4db28763df",
   "metadata": {},
   "outputs": [],
   "source": [
    "# # Determine the predicted label for both the original image and the adversarial image\n",
    "# imagePred = label.argmax()\n",
    "# adversaryPred = pred[0].argmax()"
   ]
  },
  {
   "cell_type": "code",
   "execution_count": 17,
   "id": "766405de-4f8c-4311-8a13-5730c051652e",
   "metadata": {},
   "outputs": [],
   "source": [
    "# color = (0, 255, 0)\n",
    "# # If the image prediction does not match with the adversarial prediction then update the color\n",
    "# if imagePred != adversaryPred:\n",
    "#     color = (255, 0, 0)"
   ]
  },
  {
   "cell_type": "code",
   "execution_count": 18,
   "id": "fcd4bd3c-5c00-4c24-9f88-23997837fe89",
   "metadata": {},
   "outputs": [],
   "source": [
    "# font = ImageFont.truetype(\"arial.ttf\", 9)"
   ]
  },
  {
   "cell_type": "code",
   "execution_count": 19,
   "id": "e9e5c25e-4bbb-440a-ad49-9f56541d742e",
   "metadata": {},
   "outputs": [],
   "source": [
    "# image_copy = deepcopy(image)\n",
    "# adversary_copy = deepcopy(adversary)"
   ]
  },
  {
   "cell_type": "code",
   "execution_count": 20,
   "id": "c59a18a0-7eae-4abc-b797-04c340329c4c",
   "metadata": {},
   "outputs": [],
   "source": [
    "# draw_image = ImageDraw.Draw(image_copy)\n",
    "# draw_image.text((10, 10), \"{}\".format(labelNames[imagePred]), (0,255,0), font=font)\n",
    "\n",
    "# draw_adversary = ImageDraw.Draw(adversary_copy)\n",
    "# draw_adversary.text((10, 10), \"{}\".format(labelNames[adversaryPred]), color, font=font)"
   ]
  },
  {
   "cell_type": "code",
   "execution_count": 21,
   "id": "4161f99b-772c-4f52-a399-a32cf4e7f2ef",
   "metadata": {},
   "outputs": [],
   "source": [
    "# output = np.hstack([image_copy, adversary_copy])"
   ]
  },
  {
   "cell_type": "code",
   "execution_count": 22,
   "id": "728a1ad2-c4b0-4af6-93b4-d65ef0629e30",
   "metadata": {},
   "outputs": [
    {
     "data": {
      "image/png": "[encoded data removed]",
      "text/plain": [
       "<PIL.Image.Image image mode=RGB size=192x96 at 0x7FC3B2AACEB0>"
      ]
     },
     "execution_count": 22,
     "metadata": {},
     "output_type": "execute_result"
    }
   ],
   "source": [
    "# Image.fromarray(output)"
   ]
  },
  {
   "cell_type": "code",
   "execution_count": null,
   "id": "5d6bd815-ece6-44f8-ab55-ff3a9801f3d5",
   "metadata": {},
   "outputs": [],
   "source": []
  }
 ],
 "metadata": {
  "kernelspec": {
   "display_name": "Python 3 (ipykernel)",
   "language": "python",
   "name": "python3"
  },
  "language_info": {
   "codemirror_mode": {
    "name": "ipython",
    "version": 3
   },
   "file_extension": ".py",
   "mimetype": "text/x-python",
   "name": "python",
   "nbconvert_exporter": "python",
   "pygments_lexer": "ipython3",
   "version": "3.8.10"
  }
 },
 "nbformat": 4,
 "nbformat_minor": 5
}
